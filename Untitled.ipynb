{
 "cells": [
  {
   "cell_type": "code",
   "execution_count": 1,
   "metadata": {},
   "outputs": [],
   "source": [
    "fantasy_stats = ['G', 'GS', 'MP', 'FG', 'FGA', 'FG%', '3P', '3PA', '3P%', '2P', '2PA', '2P%', 'eFG%', 'FT', 'FTA', 'FT%', 'ORB', 'DRB', 'TRB', 'AST', 'STL', 'BLK', 'TOV', 'PF', 'PTS']"
   ]
  },
  {
   "cell_type": "code",
   "execution_count": 3,
   "metadata": {},
   "outputs": [
    {
     "name": "stdout",
     "output_type": "stream",
     "text": [
      "   Rk                              Player Pos  Age   Tm         G        GS  \\\n",
      "0   1              Steven Adams\\adamsst01   C   26  OKC  8.039368  8.039368   \n",
      "1   2               Bam Adebayo\\adebaba01  PF   22  MIA  9.409282  9.409282   \n",
      "2   3         LaMarcus Aldridge\\aldrila01   C   34  SAS  6.517241  6.517241   \n",
      "3   4            Kyle Alexander\\alexaky01   C   23  MIA -1.245607 -1.550033   \n",
      "4   5  Nickeil Alexander-Walker\\alexani01  SG   21  NOP  5.603964 -1.397820   \n",
      "5   6             Grayson Allen\\allengr01  SG   24  MEM  4.234050 -1.550033   \n",
      "\n",
      "         MP        FG       FGA  ...       FT%       ORB       DRB       TRB  \\\n",
      "0  2.514046 -0.865076 -0.393216  ... -1.461445 -1.047731 -0.636756 -0.134455   \n",
      "1  3.564314 -0.621535  0.124307  ... -1.444854 -1.184722 -0.362774  0.002537   \n",
      "2  3.488208 -0.423659  0.733158  ... -1.424153 -1.260829 -0.712863 -0.423659   \n",
      "3 -0.560650 -1.473926 -1.397820  ...       NaN -1.397820 -1.473926 -1.321714   \n",
      "4  0.367847 -1.230386 -0.682420  ... -1.447137 -1.519590 -1.306492 -1.276050   \n",
      "5  1.326787 -1.078173 -0.545429  ... -1.418064 -1.519590 -1.245607 -1.215165   \n",
      "\n",
      "        AST       STL       BLK       TOV        PF       PTS  \n",
      "0 -1.199943 -1.428263 -1.382599 -1.321714 -1.260829  0.109086  \n",
      "1 -0.773748 -1.382599 -1.352156 -1.123837 -1.169501  0.870149  \n",
      "2 -1.184722 -1.443484 -1.306492 -1.336935 -1.184722  1.326787  \n",
      "3 -1.550033 -1.550033 -1.550033 -1.473926 -1.473926 -1.397820  \n",
      "4 -1.260829 -1.489148 -1.519590 -1.382599 -1.367377 -0.682420  \n",
      "5 -1.336935 -1.504369 -1.534811 -1.413041 -1.336935 -0.225782  \n",
      "\n",
      "[6 rows x 30 columns]\n"
     ]
    }
   ],
   "source": [
    "import pandas as pd\n",
    "\n",
    "arr = pd.read_csv('test.tsv', sep='\\t')\n",
    "\n",
    "ast_std_dev = arr['AST'].std()\n",
    "ast_mean = arr['AST'].mean()\n",
    "\n",
    "tov_std_dev = arr['TOV'].std()\n",
    "tov_mean = arr['TOV'].mean()\n",
    "\n",
    "transform_functions = {}\n",
    "for col in arr.iteritems():\n",
    "    stat = col[0]\n",
    "    if stat in fantasy_stats:\n",
    "        std_dev = arr[stat].std()\n",
    "        mean = arr[stat].mean()\n",
    "        transform_functions[stat] = lambda val: (val-mean)/std_dev\n",
    "    else:\n",
    "        transform_functions[stat] = lambda val: val\n",
    "\n",
    "print(arr.transform(transform_functions))"
   ]
  },
  {
   "cell_type": "code",
   "execution_count": null,
   "metadata": {},
   "outputs": [],
   "source": []
  }
 ],
 "metadata": {
  "kernelspec": {
   "display_name": "Python 3",
   "language": "python",
   "name": "python3"
  },
  "language_info": {
   "codemirror_mode": {
    "name": "ipython",
    "version": 3
   },
   "file_extension": ".py",
   "mimetype": "text/x-python",
   "name": "python",
   "nbconvert_exporter": "python",
   "pygments_lexer": "ipython3",
   "version": "3.8.5"
  }
 },
 "nbformat": 4,
 "nbformat_minor": 4
}
