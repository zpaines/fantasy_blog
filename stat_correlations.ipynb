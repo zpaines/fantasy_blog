{
 "cells": [
  {
   "cell_type": "code",
   "execution_count": 1,
   "metadata": {},
   "outputs": [],
   "source": [
    "numeric_stats = ['derived_fg', 'derived_ft', 'G', 'GS', 'MP', 'FG', 'FGA', 'FG%', '3P', '3PA', '3P%', '2P', '2PA', '2P%', 'eFG%', 'FT', 'FTA', 'FT%', 'ORB', 'DRB', 'TRB', 'AST', 'STL', 'BLK', 'TOV', 'PF', 'PTS']\n",
    "fantasy_stats = ['derived_fg', 'derived_ft','TRB', 'AST', 'STL', 'BLK', 'TOV', '3P', 'PTS']\n",
    "negative_stats = ['FTA', 'TOV', 'FGA']"
   ]
  },
  {
   "cell_type": "code",
   "execution_count": 2,
   "metadata": {},
   "outputs": [
    {
     "data": {
      "text/plain": [
       "'Otto Porter Jr.'"
      ]
     },
     "execution_count": 2,
     "metadata": {},
     "output_type": "execute_result"
    }
   ],
   "source": [
    "import unidecode\n",
    "\n",
    "def name_transform(name):\n",
    "    name = name.split('\\\\')[0].strip()\n",
    "    name = unidecode.unidecode(name)\n",
    "    transforms = {}\n",
    "    transforms['Marcus Morris'] = 'Marcus Morris Sr.'\n",
    "    transforms['Otto Porter'] = 'Otto Porter Jr.'\n",
    "    if name in transforms:\n",
    "        return transforms[name]\n",
    "    return name\n",
    "name_transform('Otto Porter')"
   ]
  },
  {
   "cell_type": "code",
   "execution_count": 3,
   "metadata": {},
   "outputs": [],
   "source": [
    "# Import stats CSV\n",
    "import pandas as pd\n",
    "\n",
    "arr = pd.read_csv('current_season.csv')\n",
    "arr['Player'] = arr['Player'].transform(name_transform)\n",
    "arr = arr.drop(['Rk', 'GS', 'Age', 'Pos', 'FG%', 'FT%', '2P%', 'eFG%', '3PA', '3P%', '2P', '2PA', 'Tm'], axis=1)\n",
    "arr = arr.groupby(arr['Player']).sum()\n",
    "arr['FT%'] = arr['FT'] * 100 / arr['FTA']\n",
    "arr['FG%'] = arr['FG'] * 100 / arr['FGA']\n",
    "arr['derived_fg'] = arr['FG'] * (arr['FG%'] - arr['FG%'].mean())\n",
    "arr['derived_ft'] = arr['FT'] * (arr['FT%'] - arr['FT%'].mean())\n",
    "arr[['TRB', 'AST', 'STL', 'BLK', 'TOV', '3P', 'PTS']] = arr[['TRB', 'AST', 'STL', 'BLK', 'TOV', '3P', 'PTS']].div(arr['G'], axis=0)"
   ]
  },
  {
   "cell_type": "code",
   "execution_count": 6,
   "metadata": {},
   "outputs": [
    {
     "name": "stdout",
     "output_type": "stream",
     "text": [
      "{\"derived_fg\":{\"derived_fg\":1.0,\"derived_ft\":0.035092301,\"TRB\":0.529424214,\"AST\":0.194769702,\"STL\":0.2058326544,\"BLK\":0.339499336,\"TOV\":0.328099994,\"3P\":0.061836175,\"PTS\":0.4699048064},\"derived_ft\":{\"derived_fg\":0.035092301,\"derived_ft\":1.0,\"TRB\":-0.0243886008,\"AST\":0.4048544335,\"STL\":0.2046268748,\"BLK\":-0.0749430107,\"TOV\":0.298600611,\"3P\":0.4654155927,\"PTS\":0.4794027672},\"TRB\":{\"derived_fg\":0.529424214,\"derived_ft\":-0.0243886008,\"TRB\":1.0,\"AST\":0.4148955457,\"STL\":0.3740432297,\"BLK\":0.5535691841,\"TOV\":0.5666131839,\"3P\":0.2192159988,\"PTS\":0.609973406},\"AST\":{\"derived_fg\":0.194769702,\"derived_ft\":0.4048544335,\"TRB\":0.4148955457,\"AST\":1.0,\"STL\":0.5488814612,\"BLK\":0.0670505665,\"TOV\":0.7513162495,\"3P\":0.4838632326,\"PTS\":0.7114900391},\"STL\":{\"derived_fg\":0.2058326544,\"derived_ft\":0.2046268748,\"TRB\":0.3740432297,\"AST\":0.5488814612,\"STL\":1.0,\"BLK\":0.1839274425,\"TOV\":0.4997066435,\"3P\":0.423988508,\"PTS\":0.5620030955},\"BLK\":{\"derived_fg\":0.339499336,\"derived_ft\":-0.0749430107,\"TRB\":0.5535691841,\"AST\":0.0670505665,\"STL\":0.1839274425,\"BLK\":1.0,\"TOV\":0.2395260047,\"3P\":0.0455087253,\"PTS\":0.2904011867},\"TOV\":{\"derived_fg\":0.328099994,\"derived_ft\":0.298600611,\"TRB\":0.5666131839,\"AST\":0.7513162495,\"STL\":0.4997066435,\"BLK\":0.2395260047,\"TOV\":1.0,\"3P\":0.4262229906,\"PTS\":0.7412027991},\"3P\":{\"derived_fg\":0.061836175,\"derived_ft\":0.4654155927,\"TRB\":0.2192159988,\"AST\":0.4838632326,\"STL\":0.423988508,\"BLK\":0.0455087253,\"TOV\":0.4262229906,\"3P\":1.0,\"PTS\":0.7269796942},\"PTS\":{\"derived_fg\":0.4699048064,\"derived_ft\":0.4794027672,\"TRB\":0.609973406,\"AST\":0.7114900391,\"STL\":0.5620030955,\"BLK\":0.2904011867,\"TOV\":0.7412027991,\"3P\":0.7269796942,\"PTS\":1.0}}\n"
     ]
    }
   ],
   "source": [
    "print(arr[fantasy_stats].corr().to_json())"
   ]
  },
  {
   "cell_type": "code",
   "execution_count": null,
   "metadata": {},
   "outputs": [],
   "source": []
  }
 ],
 "metadata": {
  "kernelspec": {
   "display_name": "Python 3",
   "language": "python",
   "name": "python3"
  },
  "language_info": {
   "codemirror_mode": {
    "name": "ipython",
    "version": 3
   },
   "file_extension": ".py",
   "mimetype": "text/x-python",
   "name": "python",
   "nbconvert_exporter": "python",
   "pygments_lexer": "ipython3",
   "version": "3.8.5"
  }
 },
 "nbformat": 4,
 "nbformat_minor": 4
}
